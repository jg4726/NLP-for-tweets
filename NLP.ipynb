{
  "cells": [
    {
      "cell_type": "markdown",
      "metadata": {
        "id": "view-in-github",
        "colab_type": "text"
      },
      "source": [
        "<a href=\"https://colab.research.google.com/github/jg4726/public-file/blob/main/NLP.ipynb\" target=\"_parent\"><img src=\"https://colab.research.google.com/assets/colab-badge.svg\" alt=\"Open In Colab\"/></a>"
      ]
    },
    {
      "cell_type": "code",
      "execution_count": null,
      "id": "71f17a0c",
      "metadata": {
        "id": "71f17a0c"
      },
      "outputs": [],
      "source": [
        "import pandas as pd\n",
        "import numpy as np\n",
        "import torch\n",
        "import time\n",
        "from torch.functional import Tensor\n",
        "from transformers import AdamW\n",
        "from sklearn.metrics import roc_auc_score\n",
        "import collections"
      ]
    },
    {
      "cell_type": "code",
      "execution_count": null,
      "id": "ffbf18c1",
      "metadata": {
        "id": "ffbf18c1",
        "outputId": "28ce0de9-84df-4944-ae5f-bc3cd29d640a"
      },
      "outputs": [
        {
          "data": {
            "text/plain": [
              "<torch._C.Generator at 0x1b6f59e5770>"
            ]
          },
          "execution_count": 2,
          "metadata": {},
          "output_type": "execute_result"
        }
      ],
      "source": [
        "rng = np.random.default_rng(42)\n",
        "torch.manual_seed(42) "
      ]
    },
    {
      "cell_type": "code",
      "execution_count": null,
      "id": "133e78b2",
      "metadata": {
        "id": "133e78b2",
        "outputId": "e2048bf9-8c88-4481-938e-52c3a25ae339"
      },
      "outputs": [
        {
          "data": {
            "text/html": [
              "<div>\n",
              "<style scoped>\n",
              "    .dataframe tbody tr th:only-of-type {\n",
              "        vertical-align: middle;\n",
              "    }\n",
              "\n",
              "    .dataframe tbody tr th {\n",
              "        vertical-align: top;\n",
              "    }\n",
              "\n",
              "    .dataframe thead th {\n",
              "        text-align: right;\n",
              "    }\n",
              "</style>\n",
              "<table border=\"1\" class=\"dataframe\">\n",
              "  <thead>\n",
              "    <tr style=\"text-align: right;\">\n",
              "      <th></th>\n",
              "      <th>text</th>\n",
              "      <th>label</th>\n",
              "    </tr>\n",
              "  </thead>\n",
              "  <tbody>\n",
              "    <tr>\n",
              "      <th>0</th>\n",
              "      <td>According to Gran , the company has no plans t...</td>\n",
              "      <td>neutral</td>\n",
              "    </tr>\n",
              "    <tr>\n",
              "      <th>1</th>\n",
              "      <td>For the last quarter of 2010 , Componenta 's n...</td>\n",
              "      <td>positive</td>\n",
              "    </tr>\n",
              "    <tr>\n",
              "      <th>2</th>\n",
              "      <td>In the third quarter of 2010 , net sales incre...</td>\n",
              "      <td>positive</td>\n",
              "    </tr>\n",
              "    <tr>\n",
              "      <th>3</th>\n",
              "      <td>Operating profit rose to EUR 13.1 mn from EUR ...</td>\n",
              "      <td>positive</td>\n",
              "    </tr>\n",
              "    <tr>\n",
              "      <th>4</th>\n",
              "      <td>Operating profit totalled EUR 21.1 mn , up fro...</td>\n",
              "      <td>positive</td>\n",
              "    </tr>\n",
              "    <tr>\n",
              "      <th>...</th>\n",
              "      <td>...</td>\n",
              "      <td>...</td>\n",
              "    </tr>\n",
              "    <tr>\n",
              "      <th>2259</th>\n",
              "      <td>Operating result for the 12-month period decre...</td>\n",
              "      <td>negative</td>\n",
              "    </tr>\n",
              "    <tr>\n",
              "      <th>2260</th>\n",
              "      <td>HELSINKI Thomson Financial - Shares in Cargote...</td>\n",
              "      <td>negative</td>\n",
              "    </tr>\n",
              "    <tr>\n",
              "      <th>2261</th>\n",
              "      <td>LONDON MarketWatch -- Share prices ended lower...</td>\n",
              "      <td>negative</td>\n",
              "    </tr>\n",
              "    <tr>\n",
              "      <th>2262</th>\n",
              "      <td>Operating profit fell to EUR 35.4 mn from EUR ...</td>\n",
              "      <td>negative</td>\n",
              "    </tr>\n",
              "    <tr>\n",
              "      <th>2263</th>\n",
              "      <td>Sales in Finland decreased by 10.5 % in Januar...</td>\n",
              "      <td>negative</td>\n",
              "    </tr>\n",
              "  </tbody>\n",
              "</table>\n",
              "<p>2264 rows × 2 columns</p>\n",
              "</div>"
            ],
            "text/plain": [
              "                                                   text     label\n",
              "0     According to Gran , the company has no plans t...   neutral\n",
              "1     For the last quarter of 2010 , Componenta 's n...  positive\n",
              "2     In the third quarter of 2010 , net sales incre...  positive\n",
              "3     Operating profit rose to EUR 13.1 mn from EUR ...  positive\n",
              "4     Operating profit totalled EUR 21.1 mn , up fro...  positive\n",
              "...                                                 ...       ...\n",
              "2259  Operating result for the 12-month period decre...  negative\n",
              "2260  HELSINKI Thomson Financial - Shares in Cargote...  negative\n",
              "2261  LONDON MarketWatch -- Share prices ended lower...  negative\n",
              "2262  Operating profit fell to EUR 35.4 mn from EUR ...  negative\n",
              "2263  Sales in Finland decreased by 10.5 % in Januar...  negative\n",
              "\n",
              "[2264 rows x 2 columns]"
            ]
          },
          "execution_count": 3,
          "metadata": {},
          "output_type": "execute_result"
        }
      ],
      "source": [
        "\n",
        "cols = ['text','label']\n",
        "lst= []\n",
        "with open('assignment_4.txt', 'r') as fin:\n",
        "    for line in fin:\n",
        "        text, label = line.strip().rsplit('@', 1)\n",
        "        lst.append([text,label])\n",
        "    df=pd.DataFrame(lst,columns=cols)\n",
        "df\n"
      ]
    },
    {
      "cell_type": "code",
      "execution_count": null,
      "id": "c2a8f16f",
      "metadata": {
        "id": "c2a8f16f",
        "outputId": "e2c45c43-c45d-4ff6-9959-a2e9e8719fa7"
      },
      "outputs": [
        {
          "name": "stdout",
          "output_type": "stream",
          "text": [
            "Statistics= 752.7392335045438 p= 1.0\n",
            "it is normally distributed\n"
          ]
        },
        {
          "data": {
            "image/png": "[encoded data removed]",
            "text/plain": [
              "<Figure size 432x288 with 1 Axes>"
            ]
          },
          "metadata": {
            "needs_background": "light"
          },
          "output_type": "display_data"
        }
      ],
      "source": [
        "from sklearn.preprocessing import LabelEncoder\n",
        "\n",
        "le_label = LabelEncoder()\n",
        "df['bi_label'] = le_label.fit_transform(df['label'])\n",
        "new = df['bi_label']\n",
        "from scipy.stats import chisquare\n",
        "from scipy import stats\n",
        "stat, p = chisquare(new)\n",
        "print('Statistics=',stat, 'p=', p)\n",
        "if p > 0.05:\n",
        "\tprint('it is normally distributed')\n",
        "else:\n",
        "\tprint('not normally distributed')\n",
        "import matplotlib.pyplot as plt\n",
        "new.plot(kind='kde')\n",
        "df =df.drop(['bi_label'],axis = 'columns')"
      ]
    },
    {
      "cell_type": "code",
      "execution_count": null,
      "id": "65cf1424",
      "metadata": {
        "id": "65cf1424"
      },
      "outputs": [],
      "source": [
        "from sklearn.model_selection import train_test_split\n",
        "\n",
        "x = df['text']\n",
        "\n",
        "y= df['label']\n",
        "\n",
        "x_train, x_test,y_train,y_test = train_test_split(x,y, test_size=0.3,stratify=y)\n",
        "\n",
        "train_dataset = x_train.to_frame().join(y_train) #used for q2\n",
        "train_dataset['bi_label'] = le_label.fit_transform(train_dataset['label'])\n",
        "train_dataset =train_dataset.drop(['label'],axis = 'columns')\n",
        "train_dataset=train_dataset.rename(columns={\"bi_label\": \"label\"})\n",
        "train_dataset= train_dataset.reset_index()\n",
        "train_dataset=train_dataset.drop(['index'], axis='columns')\n",
        "\n",
        "\n",
        "test_dataset = x_test.to_frame().join(y_test)\n",
        "test_dataset['bi_label'] = le_label.fit_transform(test_dataset['label'])\n",
        "test_dataset =test_dataset.drop(['label'],axis = 'columns')\n",
        "test_dataset=test_dataset.rename(columns={\"bi_label\": \"label\"})\n",
        "test_dataset= test_dataset.reset_index()\n",
        "test_dataset=test_dataset.drop(['index'], axis='columns')\n",
        "\n",
        "\n",
        "\n",
        "\n",
        "le_label = LabelEncoder()\n",
        "y_train = le_label.fit_transform(y_train)\n",
        "y_test = le_label.fit_transform(y_test)\n",
        "\n",
        "y_train_df = pd.DataFrame(y_train)\n",
        "y_test_df = pd.DataFrame(y_test)\n",
        "y_train = pd.Series(y_train)\n",
        "y_test = pd.Series(y_test)\n",
        "\n",
        "#df =df.drop(['bi_label'],axis = 'columns')\n"
      ]
    },
    {
      "cell_type": "code",
      "execution_count": null,
      "id": "caad8648",
      "metadata": {
        "id": "caad8648"
      },
      "outputs": [],
      "source": [
        "from sklearn.feature_extraction.text import CountVectorizer\n",
        "vect = CountVectorizer(min_df=1,ngram_range=(2, 2),binary=True,stop_words = 'english')\n",
        "\n",
        "cx_train = vect.fit_transform(x_train)\n",
        "\n",
        "cx_test = vect.transform(x_test)\n"
      ]
    },
    {
      "cell_type": "code",
      "execution_count": null,
      "id": "a6db9c15",
      "metadata": {
        "id": "a6db9c15"
      },
      "outputs": [],
      "source": [
        "from sklearn.feature_extraction.text import TfidfVectorizer\n",
        "vect2 = TfidfVectorizer(min_df=1,ngram_range=(2, 2),stop_words = 'english')\n",
        "\n",
        "fx_train = vect2.fit_transform(x_train)\n",
        "\n",
        "fx_test = vect2.transform(x_test)\n",
        "\n"
      ]
    },
    {
      "cell_type": "code",
      "execution_count": null,
      "id": "a5f7640b",
      "metadata": {
        "id": "a5f7640b"
      },
      "outputs": [],
      "source": [
        "from sklearn.linear_model import LogisticRegression\n",
        "\n",
        "logreg = LogisticRegression()\n",
        "tfidf = logreg.fit(fx_train,y_train)\n",
        "tfifd_lr_pred = tfidf.predict_proba(fx_test)\n",
        "#array_y_test = y_test.to_numpy()\n",
        "\n",
        "cv = logreg.fit(cx_train,y_train)\n",
        "cv_lr_pred = cv.predict_proba(cx_test)\n",
        "\n",
        "from sklearn.naive_bayes import BernoulliNB\n",
        "\n",
        "bnb = BernoulliNB()\n",
        "tb = bnb.fit(fx_train,y_train)\n",
        "tb_pred = tfidf.predict_proba(fx_test)\n",
        "#array_y_test = y_test.to_numpy()\n",
        "\n",
        "cvb = bnb.fit(cx_train,y_train)\n",
        "cvb_pred = cvb.predict_proba(cx_test)"
      ]
    },
    {
      "cell_type": "code",
      "execution_count": null,
      "id": "a0f13958",
      "metadata": {
        "id": "a0f13958",
        "outputId": "c3f07ea8-450f-49a7-843c-2954d2e06d1f"
      },
      "outputs": [
        {
          "data": {
            "text/plain": [
              "<Figure size 1440x1440 with 0 Axes>"
            ]
          },
          "metadata": {},
          "output_type": "display_data"
        },
        {
          "data": {
            "image/png": "[encoded data removed]",
            "text/plain": [
              "<Figure size 640x480 with 1 Axes>"
            ]
          },
          "metadata": {
            "needs_background": "light"
          },
          "output_type": "display_data"
        }
      ],
      "source": [
        "from sklearn.metrics import roc_curve\n",
        "from sklearn.metrics import auc\n",
        "from sklearn.preprocessing import label_binarize\n",
        "from matplotlib.pyplot import figure\n",
        "\n",
        "\n",
        "biy_test = label_binarize(y_test, classes=[0, 1, 2])\n",
        "n_classes = 3\n",
        "\n",
        "fpr = dict()\n",
        "tpr = dict()\n",
        "roc_auc = dict()\n",
        "for i in range(n_classes):\n",
        "    fpr[i], tpr[i], _ = roc_curve(biy_test[:,i], tfifd_lr_pred[:, i])\n",
        "    roc_auc[i] = auc(fpr[i], tpr[i])\n",
        "\n",
        "# Plot of a ROC curve for a specific class\n",
        "plt.figure(figsize=(20,20))\n",
        "figure(figsize=(8, 6), dpi=80)\n",
        "for i in range(n_classes):\n",
        "    plt.plot(fpr[i], tpr[i], label='tfid lr ROC curve (area = %0.2f)' % roc_auc[i],color = 'black')\n",
        "    plt.plot([0, 1], [0, 1], 'k--')\n",
        "    plt.xlim([0.0, 1.0])\n",
        "    plt.ylim([0.0, 1.05])\n",
        "    plt.xlabel('False Positive Rate')\n",
        "    plt.ylabel('True Positive Rate')\n",
        "    plt.title('tfid linear regression')\n",
        "    plt.legend(loc=\"lower right\")\n",
        "    \n",
        "fpr = dict()\n",
        "tpr = dict()\n",
        "roc_auc = dict()\n",
        "for i in range(n_classes):\n",
        "    fpr[i], tpr[i], _ = roc_curve(biy_test[:,i], cv_lr_pred[:, i])\n",
        "    roc_auc[i] = auc(fpr[i], tpr[i])\n",
        "\n",
        "for i in range(n_classes):\n",
        "    plt.plot(fpr[i], tpr[i], label='cv lr ROC curve (area = %0.2f)' % roc_auc[i],color = 'red')\n",
        "    plt.legend(loc=\"lower right\")\n",
        "\n",
        "fpr = dict()\n",
        "tpr = dict()\n",
        "roc_auc = dict()\n",
        "for i in range(n_classes):\n",
        "    fpr[i], tpr[i], _ = roc_curve(biy_test[:,i], tb_pred[:, i])\n",
        "    roc_auc[i] = auc(fpr[i], tpr[i])\n",
        "\n",
        "for i in range(n_classes):\n",
        "    plt.plot(fpr[i], tpr[i], label='tfidf Bern ROC curve (area = %0.2f)' % roc_auc[i],color = 'blue')\n",
        "    plt.legend(loc=\"lower right\")\n",
        "    \n",
        "fpr = dict()\n",
        "tpr = dict()\n",
        "roc_auc = dict()\n",
        "for i in range(n_classes):\n",
        "    fpr[i], tpr[i], _ = roc_curve(biy_test[:,i], cvb_pred[:, i])\n",
        "    roc_auc[i] = auc(fpr[i], tpr[i])\n",
        "\n",
        "for i in range(n_classes):\n",
        "    plt.plot(fpr[i], tpr[i], label='cv Bern ROC curve (area = %0.2f)' % roc_auc[i],color = 'yellow')\n",
        "    plt.legend(loc=\"lower right\")\n",
        "\n"
      ]
    },
    {
      "cell_type": "code",
      "execution_count": null,
      "id": "799a3a12",
      "metadata": {
        "id": "799a3a12"
      },
      "outputs": [],
      "source": [
        "# Logistic regression model is better"
      ]
    },
    {
      "cell_type": "code",
      "execution_count": null,
      "id": "f2381029",
      "metadata": {
        "id": "f2381029"
      },
      "outputs": [],
      "source": [
        "\n",
        "#Q2\n",
        "\n",
        "import pandas as pd\n",
        "import numpy as np\n",
        "import torch\n",
        "import time\n",
        "from torch.functional import Tensor\n",
        "from transformers import AdamW\n",
        "from sklearn.metrics import roc_auc_score\n",
        "import collections\n",
        "from transformers import BertTokenizer, BertForSequenceClassification\n",
        "import tensorflow as tf"
      ]
    },
    {
      "cell_type": "code",
      "execution_count": null,
      "id": "425b2cb3",
      "metadata": {
        "id": "425b2cb3"
      },
      "outputs": [],
      "source": [
        ""
      ]
    },
    {
      "cell_type": "code",
      "execution_count": null,
      "id": "606cac76",
      "metadata": {
        "id": "606cac76"
      },
      "outputs": [],
      "source": [
        "from transformers import AutoTokenizer\n",
        "\n",
        "tokenizer = AutoTokenizer.from_pretrained('bert-base-uncased')"
      ]
    },
    {
      "cell_type": "code",
      "execution_count": null,
      "id": "ef334933",
      "metadata": {
        "colab": {
          "referenced_widgets": [
            "6a06d935334244eeaa6efe2a30049f21",
            "e85e2cdc42d24519b52da290b3c4e276",
            "7a2852e333e54b9ab3ac17e2fa3a1d7b"
          ]
        },
        "id": "ef334933",
        "outputId": "ba1d5bdb-c36e-4182-9534-f1dd95713961"
      },
      "outputs": [
        {
          "data": {
            "application/vnd.jupyter.widget-view+json": {
              "model_id": "6a06d935334244eeaa6efe2a30049f21",
              "version_major": 2,
              "version_minor": 0
            },
            "text/plain": [
              "  0%|          | 0/2 [00:00<?, ?ba/s]"
            ]
          },
          "metadata": {},
          "output_type": "display_data"
        },
        {
          "data": {
            "application/vnd.jupyter.widget-view+json": {
              "model_id": "e85e2cdc42d24519b52da290b3c4e276",
              "version_major": 2,
              "version_minor": 0
            },
            "text/plain": [
              "  0%|          | 0/1 [00:00<?, ?ba/s]"
            ]
          },
          "metadata": {},
          "output_type": "display_data"
        },
        {
          "data": {
            "application/vnd.jupyter.widget-view+json": {
              "model_id": "7a2852e333e54b9ab3ac17e2fa3a1d7b",
              "version_major": 2,
              "version_minor": 0
            },
            "text/plain": [
              "  0%|          | 0/1 [00:00<?, ?ba/s]"
            ]
          },
          "metadata": {},
          "output_type": "display_data"
        }
      ],
      "source": [
        "from datasets import Dataset\n",
        "new_train = Dataset.from_pandas(train_dataset)\n",
        "new_eval  =new_train.shuffle(seed=42).select(range(300))\n",
        "\n",
        "new_test = Dataset.from_pandas(test_dataset)\n",
        "\n",
        "\n",
        "def tokenize_function(examples):\n",
        "    return tokenizer(examples[\"text\"], padding=\"max_length\", truncation=True, max_length = 30)\n",
        "\n",
        "t_train = new_train.map(tokenize_function, batched=True)\n",
        "t_eval = new_eval.map(tokenize_function, batched=True)\n",
        "t_test = new_test.map(tokenize_function, batched=True)\n"
      ]
    },
    {
      "cell_type": "code",
      "execution_count": null,
      "id": "d2bacbc8",
      "metadata": {
        "id": "d2bacbc8",
        "outputId": "cf9f6fd3-a31c-4afa-819b-7c18013319a1"
      },
      "outputs": [
        {
          "data": {
            "text/plain": [
              "Dataset({\n",
              "    features: ['attention_mask', 'input_ids', 'labels', 'token_type_ids'],\n",
              "    num_rows: 300\n",
              "})"
            ]
          },
          "execution_count": 23,
          "metadata": {},
          "output_type": "execute_result"
        }
      ],
      "source": [
        "\n",
        "new_t_train = t_train.remove_columns([\"text\"])\n",
        "new_t_train = new_t_train.rename_column(\"label\", \"labels\")\n",
        "new_t_train.set_format(\"torch\")\n",
        "\n",
        "\n",
        "new_t_test = t_test.remove_columns([\"text\"])\n",
        "new_t_test = new_t_test.rename_column(\"label\", \"labels\")\n",
        "new_t_test.set_format(\"torch\")\n",
        "\n",
        "new_t_eval = t_eval.remove_columns([\"text\"])\n",
        "new_t_eval = new_t_eval.rename_column(\"label\", \"labels\")\n",
        "new_t_eval.set_format(\"torch\")\n",
        "\n",
        "\n",
        "new_t_eval"
      ]
    },
    {
      "cell_type": "code",
      "execution_count": null,
      "id": "6d4df341",
      "metadata": {
        "id": "6d4df341",
        "outputId": "73796d43-2c3b-4200-eb33-bf525119abe1"
      },
      "outputs": [
        {
          "name": "stderr",
          "output_type": "stream",
          "text": [
            "Some weights of the model checkpoint at bert-base-uncased were not used when initializing BertForSequenceClassification: ['cls.seq_relationship.bias', 'cls.predictions.bias', 'cls.predictions.transform.dense.weight', 'cls.predictions.decoder.weight', 'cls.predictions.transform.LayerNorm.bias', 'cls.seq_relationship.weight', 'cls.predictions.transform.LayerNorm.weight', 'cls.predictions.transform.dense.bias']\n",
            "- This IS expected if you are initializing BertForSequenceClassification from the checkpoint of a model trained on another task or with another architecture (e.g. initializing a BertForSequenceClassification model from a BertForPreTraining model).\n",
            "- This IS NOT expected if you are initializing BertForSequenceClassification from the checkpoint of a model that you expect to be exactly identical (initializing a BertForSequenceClassification model from a BertForSequenceClassification model).\n",
            "Some weights of BertForSequenceClassification were not initialized from the model checkpoint at bert-base-uncased and are newly initialized: ['classifier.weight', 'classifier.bias']\n",
            "You should probably TRAIN this model on a down-stream task to be able to use it for predictions and inference.\n"
          ]
        }
      ],
      "source": [
        "from torch.utils.data import DataLoader\n",
        "train_dataloader = DataLoader(new_t_train, shuffle=True, batch_size=12)\n",
        "eval_dataloader = DataLoader(new_t_eval, batch_size=12)\n",
        "test_dataloader = DataLoader(new_t_test, batch_size=12)\n",
        "\n",
        "from transformers import AutoModelForSequenceClassification\n",
        "\n",
        "model = AutoModelForSequenceClassification.from_pretrained(\"bert-base-uncased\", num_labels=3)"
      ]
    },
    {
      "cell_type": "code",
      "execution_count": null,
      "id": "a9bb9c87",
      "metadata": {
        "id": "a9bb9c87"
      },
      "outputs": [],
      "source": [
        "from transformers import AdamW\n",
        "\n",
        "optimizer = AdamW(model.parameters(), lr=5e-5)"
      ]
    },
    {
      "cell_type": "code",
      "execution_count": null,
      "id": "15c1a9b2",
      "metadata": {
        "id": "15c1a9b2"
      },
      "outputs": [],
      "source": [
        "from transformers import get_scheduler\n",
        "\n",
        "num_epochs = 3  #my time is toolong\n",
        "num_training_steps = num_epochs * len(train_dataloader)\n",
        "lr_scheduler = get_scheduler(\n",
        "    \"linear\",\n",
        "    optimizer=optimizer,\n",
        "    num_warmup_steps=0,\n",
        "    num_training_steps=num_training_steps\n",
        ")"
      ]
    },
    {
      "cell_type": "code",
      "execution_count": null,
      "id": "8a114bd3",
      "metadata": {
        "id": "8a114bd3",
        "outputId": "02fbc5c3-9274-462b-cf68-79e0cae89b28"
      },
      "outputs": [
        {
          "data": {
            "text/plain": [
              "BertForSequenceClassification(\n",
              "  (bert): BertModel(\n",
              "    (embeddings): BertEmbeddings(\n",
              "      (word_embeddings): Embedding(30522, 768, padding_idx=0)\n",
              "      (position_embeddings): Embedding(512, 768)\n",
              "      (token_type_embeddings): Embedding(2, 768)\n",
              "      (LayerNorm): LayerNorm((768,), eps=1e-12, elementwise_affine=True)\n",
              "      (dropout): Dropout(p=0.1, inplace=False)\n",
              "    )\n",
              "    (encoder): BertEncoder(\n",
              "      (layer): ModuleList(\n",
              "        (0): BertLayer(\n",
              "          (attention): BertAttention(\n",
              "            (self): BertSelfAttention(\n",
              "              (query): Linear(in_features=768, out_features=768, bias=True)\n",
              "              (key): Linear(in_features=768, out_features=768, bias=True)\n",
              "              (value): Linear(in_features=768, out_features=768, bias=True)\n",
              "              (dropout): Dropout(p=0.1, inplace=False)\n",
              "            )\n",
              "            (output): BertSelfOutput(\n",
              "              (dense): Linear(in_features=768, out_features=768, bias=True)\n",
              "              (LayerNorm): LayerNorm((768,), eps=1e-12, elementwise_affine=True)\n",
              "              (dropout): Dropout(p=0.1, inplace=False)\n",
              "            )\n",
              "          )\n",
              "          (intermediate): BertIntermediate(\n",
              "            (dense): Linear(in_features=768, out_features=3072, bias=True)\n",
              "          )\n",
              "          (output): BertOutput(\n",
              "            (dense): Linear(in_features=3072, out_features=768, bias=True)\n",
              "            (LayerNorm): LayerNorm((768,), eps=1e-12, elementwise_affine=True)\n",
              "            (dropout): Dropout(p=0.1, inplace=False)\n",
              "          )\n",
              "        )\n",
              "        (1): BertLayer(\n",
              "          (attention): BertAttention(\n",
              "            (self): BertSelfAttention(\n",
              "              (query): Linear(in_features=768, out_features=768, bias=True)\n",
              "              (key): Linear(in_features=768, out_features=768, bias=True)\n",
              "              (value): Linear(in_features=768, out_features=768, bias=True)\n",
              "              (dropout): Dropout(p=0.1, inplace=False)\n",
              "            )\n",
              "            (output): BertSelfOutput(\n",
              "              (dense): Linear(in_features=768, out_features=768, bias=True)\n",
              "              (LayerNorm): LayerNorm((768,), eps=1e-12, elementwise_affine=True)\n",
              "              (dropout): Dropout(p=0.1, inplace=False)\n",
              "            )\n",
              "          )\n",
              "          (intermediate): BertIntermediate(\n",
              "            (dense): Linear(in_features=768, out_features=3072, bias=True)\n",
              "          )\n",
              "          (output): BertOutput(\n",
              "            (dense): Linear(in_features=3072, out_features=768, bias=True)\n",
              "            (LayerNorm): LayerNorm((768,), eps=1e-12, elementwise_affine=True)\n",
              "            (dropout): Dropout(p=0.1, inplace=False)\n",
              "          )\n",
              "        )\n",
              "        (2): BertLayer(\n",
              "          (attention): BertAttention(\n",
              "            (self): BertSelfAttention(\n",
              "              (query): Linear(in_features=768, out_features=768, bias=True)\n",
              "              (key): Linear(in_features=768, out_features=768, bias=True)\n",
              "              (value): Linear(in_features=768, out_features=768, bias=True)\n",
              "              (dropout): Dropout(p=0.1, inplace=False)\n",
              "            )\n",
              "            (output): BertSelfOutput(\n",
              "              (dense): Linear(in_features=768, out_features=768, bias=True)\n",
              "              (LayerNorm): LayerNorm((768,), eps=1e-12, elementwise_affine=True)\n",
              "              (dropout): Dropout(p=0.1, inplace=False)\n",
              "            )\n",
              "          )\n",
              "          (intermediate): BertIntermediate(\n",
              "            (dense): Linear(in_features=768, out_features=3072, bias=True)\n",
              "          )\n",
              "          (output): BertOutput(\n",
              "            (dense): Linear(in_features=3072, out_features=768, bias=True)\n",
              "            (LayerNorm): LayerNorm((768,), eps=1e-12, elementwise_affine=True)\n",
              "            (dropout): Dropout(p=0.1, inplace=False)\n",
              "          )\n",
              "        )\n",
              "        (3): BertLayer(\n",
              "          (attention): BertAttention(\n",
              "            (self): BertSelfAttention(\n",
              "              (query): Linear(in_features=768, out_features=768, bias=True)\n",
              "              (key): Linear(in_features=768, out_features=768, bias=True)\n",
              "              (value): Linear(in_features=768, out_features=768, bias=True)\n",
              "              (dropout): Dropout(p=0.1, inplace=False)\n",
              "            )\n",
              "            (output): BertSelfOutput(\n",
              "              (dense): Linear(in_features=768, out_features=768, bias=True)\n",
              "              (LayerNorm): LayerNorm((768,), eps=1e-12, elementwise_affine=True)\n",
              "              (dropout): Dropout(p=0.1, inplace=False)\n",
              "            )\n",
              "          )\n",
              "          (intermediate): BertIntermediate(\n",
              "            (dense): Linear(in_features=768, out_features=3072, bias=True)\n",
              "          )\n",
              "          (output): BertOutput(\n",
              "            (dense): Linear(in_features=3072, out_features=768, bias=True)\n",
              "            (LayerNorm): LayerNorm((768,), eps=1e-12, elementwise_affine=True)\n",
              "            (dropout): Dropout(p=0.1, inplace=False)\n",
              "          )\n",
              "        )\n",
              "        (4): BertLayer(\n",
              "          (attention): BertAttention(\n",
              "            (self): BertSelfAttention(\n",
              "              (query): Linear(in_features=768, out_features=768, bias=True)\n",
              "              (key): Linear(in_features=768, out_features=768, bias=True)\n",
              "              (value): Linear(in_features=768, out_features=768, bias=True)\n",
              "              (dropout): Dropout(p=0.1, inplace=False)\n",
              "            )\n",
              "            (output): BertSelfOutput(\n",
              "              (dense): Linear(in_features=768, out_features=768, bias=True)\n",
              "              (LayerNorm): LayerNorm((768,), eps=1e-12, elementwise_affine=True)\n",
              "              (dropout): Dropout(p=0.1, inplace=False)\n",
              "            )\n",
              "          )\n",
              "          (intermediate): BertIntermediate(\n",
              "            (dense): Linear(in_features=768, out_features=3072, bias=True)\n",
              "          )\n",
              "          (output): BertOutput(\n",
              "            (dense): Linear(in_features=3072, out_features=768, bias=True)\n",
              "            (LayerNorm): LayerNorm((768,), eps=1e-12, elementwise_affine=True)\n",
              "            (dropout): Dropout(p=0.1, inplace=False)\n",
              "          )\n",
              "        )\n",
              "        (5): BertLayer(\n",
              "          (attention): BertAttention(\n",
              "            (self): BertSelfAttention(\n",
              "              (query): Linear(in_features=768, out_features=768, bias=True)\n",
              "              (key): Linear(in_features=768, out_features=768, bias=True)\n",
              "              (value): Linear(in_features=768, out_features=768, bias=True)\n",
              "              (dropout): Dropout(p=0.1, inplace=False)\n",
              "            )\n",
              "            (output): BertSelfOutput(\n",
              "              (dense): Linear(in_features=768, out_features=768, bias=True)\n",
              "              (LayerNorm): LayerNorm((768,), eps=1e-12, elementwise_affine=True)\n",
              "              (dropout): Dropout(p=0.1, inplace=False)\n",
              "            )\n",
              "          )\n",
              "          (intermediate): BertIntermediate(\n",
              "            (dense): Linear(in_features=768, out_features=3072, bias=True)\n",
              "          )\n",
              "          (output): BertOutput(\n",
              "            (dense): Linear(in_features=3072, out_features=768, bias=True)\n",
              "            (LayerNorm): LayerNorm((768,), eps=1e-12, elementwise_affine=True)\n",
              "            (dropout): Dropout(p=0.1, inplace=False)\n",
              "          )\n",
              "        )\n",
              "        (6): BertLayer(\n",
              "          (attention): BertAttention(\n",
              "            (self): BertSelfAttention(\n",
              "              (query): Linear(in_features=768, out_features=768, bias=True)\n",
              "              (key): Linear(in_features=768, out_features=768, bias=True)\n",
              "              (value): Linear(in_features=768, out_features=768, bias=True)\n",
              "              (dropout): Dropout(p=0.1, inplace=False)\n",
              "            )\n",
              "            (output): BertSelfOutput(\n",
              "              (dense): Linear(in_features=768, out_features=768, bias=True)\n",
              "              (LayerNorm): LayerNorm((768,), eps=1e-12, elementwise_affine=True)\n",
              "              (dropout): Dropout(p=0.1, inplace=False)\n",
              "            )\n",
              "          )\n",
              "          (intermediate): BertIntermediate(\n",
              "            (dense): Linear(in_features=768, out_features=3072, bias=True)\n",
              "          )\n",
              "          (output): BertOutput(\n",
              "            (dense): Linear(in_features=3072, out_features=768, bias=True)\n",
              "            (LayerNorm): LayerNorm((768,), eps=1e-12, elementwise_affine=True)\n",
              "            (dropout): Dropout(p=0.1, inplace=False)\n",
              "          )\n",
              "        )\n",
              "        (7): BertLayer(\n",
              "          (attention): BertAttention(\n",
              "            (self): BertSelfAttention(\n",
              "              (query): Linear(in_features=768, out_features=768, bias=True)\n",
              "              (key): Linear(in_features=768, out_features=768, bias=True)\n",
              "              (value): Linear(in_features=768, out_features=768, bias=True)\n",
              "              (dropout): Dropout(p=0.1, inplace=False)\n",
              "            )\n",
              "            (output): BertSelfOutput(\n",
              "              (dense): Linear(in_features=768, out_features=768, bias=True)\n",
              "              (LayerNorm): LayerNorm((768,), eps=1e-12, elementwise_affine=True)\n",
              "              (dropout): Dropout(p=0.1, inplace=False)\n",
              "            )\n",
              "          )\n",
              "          (intermediate): BertIntermediate(\n",
              "            (dense): Linear(in_features=768, out_features=3072, bias=True)\n",
              "          )\n",
              "          (output): BertOutput(\n",
              "            (dense): Linear(in_features=3072, out_features=768, bias=True)\n",
              "            (LayerNorm): LayerNorm((768,), eps=1e-12, elementwise_affine=True)\n",
              "            (dropout): Dropout(p=0.1, inplace=False)\n",
              "          )\n",
              "        )\n",
              "        (8): BertLayer(\n",
              "          (attention): BertAttention(\n",
              "            (self): BertSelfAttention(\n",
              "              (query): Linear(in_features=768, out_features=768, bias=True)\n",
              "              (key): Linear(in_features=768, out_features=768, bias=True)\n",
              "              (value): Linear(in_features=768, out_features=768, bias=True)\n",
              "              (dropout): Dropout(p=0.1, inplace=False)\n",
              "            )\n",
              "            (output): BertSelfOutput(\n",
              "              (dense): Linear(in_features=768, out_features=768, bias=True)\n",
              "              (LayerNorm): LayerNorm((768,), eps=1e-12, elementwise_affine=True)\n",
              "              (dropout): Dropout(p=0.1, inplace=False)\n",
              "            )\n",
              "          )\n",
              "          (intermediate): BertIntermediate(\n",
              "            (dense): Linear(in_features=768, out_features=3072, bias=True)\n",
              "          )\n",
              "          (output): BertOutput(\n",
              "            (dense): Linear(in_features=3072, out_features=768, bias=True)\n",
              "            (LayerNorm): LayerNorm((768,), eps=1e-12, elementwise_affine=True)\n",
              "            (dropout): Dropout(p=0.1, inplace=False)\n",
              "          )\n",
              "        )\n",
              "        (9): BertLayer(\n",
              "          (attention): BertAttention(\n",
              "            (self): BertSelfAttention(\n",
              "              (query): Linear(in_features=768, out_features=768, bias=True)\n",
              "              (key): Linear(in_features=768, out_features=768, bias=True)\n",
              "              (value): Linear(in_features=768, out_features=768, bias=True)\n",
              "              (dropout): Dropout(p=0.1, inplace=False)\n",
              "            )\n",
              "            (output): BertSelfOutput(\n",
              "              (dense): Linear(in_features=768, out_features=768, bias=True)\n",
              "              (LayerNorm): LayerNorm((768,), eps=1e-12, elementwise_affine=True)\n",
              "              (dropout): Dropout(p=0.1, inplace=False)\n",
              "            )\n",
              "          )\n",
              "          (intermediate): BertIntermediate(\n",
              "            (dense): Linear(in_features=768, out_features=3072, bias=True)\n",
              "          )\n",
              "          (output): BertOutput(\n",
              "            (dense): Linear(in_features=3072, out_features=768, bias=True)\n",
              "            (LayerNorm): LayerNorm((768,), eps=1e-12, elementwise_affine=True)\n",
              "            (dropout): Dropout(p=0.1, inplace=False)\n",
              "          )\n",
              "        )\n",
              "        (10): BertLayer(\n",
              "          (attention): BertAttention(\n",
              "            (self): BertSelfAttention(\n",
              "              (query): Linear(in_features=768, out_features=768, bias=True)\n",
              "              (key): Linear(in_features=768, out_features=768, bias=True)\n",
              "              (value): Linear(in_features=768, out_features=768, bias=True)\n",
              "              (dropout): Dropout(p=0.1, inplace=False)\n",
              "            )\n",
              "            (output): BertSelfOutput(\n",
              "              (dense): Linear(in_features=768, out_features=768, bias=True)\n",
              "              (LayerNorm): LayerNorm((768,), eps=1e-12, elementwise_affine=True)\n",
              "              (dropout): Dropout(p=0.1, inplace=False)\n",
              "            )\n",
              "          )\n",
              "          (intermediate): BertIntermediate(\n",
              "            (dense): Linear(in_features=768, out_features=3072, bias=True)\n",
              "          )\n",
              "          (output): BertOutput(\n",
              "            (dense): Linear(in_features=3072, out_features=768, bias=True)\n",
              "            (LayerNorm): LayerNorm((768,), eps=1e-12, elementwise_affine=True)\n",
              "            (dropout): Dropout(p=0.1, inplace=False)\n",
              "          )\n",
              "        )\n",
              "        (11): BertLayer(\n",
              "          (attention): BertAttention(\n",
              "            (self): BertSelfAttention(\n",
              "              (query): Linear(in_features=768, out_features=768, bias=True)\n",
              "              (key): Linear(in_features=768, out_features=768, bias=True)\n",
              "              (value): Linear(in_features=768, out_features=768, bias=True)\n",
              "              (dropout): Dropout(p=0.1, inplace=False)\n",
              "            )\n",
              "            (output): BertSelfOutput(\n",
              "              (dense): Linear(in_features=768, out_features=768, bias=True)\n",
              "              (LayerNorm): LayerNorm((768,), eps=1e-12, elementwise_affine=True)\n",
              "              (dropout): Dropout(p=0.1, inplace=False)\n",
              "            )\n",
              "          )\n",
              "          (intermediate): BertIntermediate(\n",
              "            (dense): Linear(in_features=768, out_features=3072, bias=True)\n",
              "          )\n",
              "          (output): BertOutput(\n",
              "            (dense): Linear(in_features=3072, out_features=768, bias=True)\n",
              "            (LayerNorm): LayerNorm((768,), eps=1e-12, elementwise_affine=True)\n",
              "            (dropout): Dropout(p=0.1, inplace=False)\n",
              "          )\n",
              "        )\n",
              "      )\n",
              "    )\n",
              "    (pooler): BertPooler(\n",
              "      (dense): Linear(in_features=768, out_features=768, bias=True)\n",
              "      (activation): Tanh()\n",
              "    )\n",
              "  )\n",
              "  (dropout): Dropout(p=0.1, inplace=False)\n",
              "  (classifier): Linear(in_features=768, out_features=3, bias=True)\n",
              ")"
            ]
          },
          "execution_count": 28,
          "metadata": {},
          "output_type": "execute_result"
        }
      ],
      "source": [
        "import torch\n",
        "\n",
        "device = torch.device(\"cuda\") if torch.cuda.is_available() else torch.device(\"cpu\")\n",
        "model.to(device)"
      ]
    },
    {
      "cell_type": "code",
      "execution_count": null,
      "id": "8a1d74cb",
      "metadata": {
        "colab": {
          "referenced_widgets": [
            "8bd5f9bfdc2447c2901065d5abb92913"
          ]
        },
        "id": "8a1d74cb",
        "outputId": "2a59a855-d99c-4a0d-a2b1-c53ef1714d26"
      },
      "outputs": [
        {
          "data": {
            "application/vnd.jupyter.widget-view+json": {
              "model_id": "8bd5f9bfdc2447c2901065d5abb92913",
              "version_major": 2,
              "version_minor": 0
            },
            "text/plain": [
              "  0%|          | 0/396 [00:00<?, ?it/s]"
            ]
          },
          "metadata": {},
          "output_type": "display_data"
        }
      ],
      "source": [
        "from tqdm.auto import tqdm\n",
        "from torch import tensor\n",
        "import torch.nn.functional as F\n",
        "\n",
        "progress_bar = tqdm(range(num_training_steps))\n",
        "train_index = train_dataset.index.tolist()\n",
        "\n",
        "model.train()\n",
        "epoch_loss = []\n",
        "train_probas = []\n",
        "all_loss=[]\n",
        "all_auc=[]\n",
        "for epoch in range(num_epochs):\n",
        "    rng.shuffle(train_index)\n",
        "    epoch_loss = []\n",
        "    train_probas = []\n",
        "    for batch in train_dataloader:\n",
        "        batch = {k: v.to(device) for k, v in batch.items()}\n",
        "        outputs = model(**batch)\n",
        "        loss = outputs.loss\n",
        "        loss.backward()\n",
        "        epoch_loss.append(loss.data.cpu().numpy())#get the loss for each round\n",
        "        \n",
        "        prob = F.softmax(outputs.logits, dim=1).cpu().detach().numpy()#get probability\n",
        "        train_probas.extend(prob)#append\n",
        "        \n",
        "        optimizer.step()\n",
        "        lr_scheduler.step()\n",
        "        optimizer.zero_grad()    \n",
        "        progress_bar.update(1)\n",
        "    np.array(train_probas)\n",
        "    mean_loss = np.mean(epoch_loss)\n",
        "    all_auc.append(roc_auc_score(train_dataset.loc[train_index,'label'], train_probas,multi_class='ovr'))\n",
        "    all_loss.append(mean_loss)"
      ]
    },
    {
      "cell_type": "code",
      "execution_count": null,
      "id": "0a0e01f6",
      "metadata": {
        "id": "0a0e01f6",
        "outputId": "84fdf1ef-440a-43be-ed27-17bbf9978266"
      },
      "outputs": [
        {
          "data": {
            "text/plain": [
              "<AxesSubplot:title={'center':'All auc'}>"
            ]
          },
          "execution_count": 30,
          "metadata": {},
          "output_type": "execute_result"
        },
        {
          "data": {
            "image/png": "[encoded data removed]",
            "text/plain": [
              "<Figure size 432x288 with 1 Axes>"
            ]
          },
          "metadata": {
            "needs_background": "light"
          },
          "output_type": "display_data"
        },
        {
          "data": {
            "image/png": "[encoded data removed]",
            "text/plain": [
              "<Figure size 432x288 with 1 Axes>"
            ]
          },
          "metadata": {
            "needs_background": "light"
          },
          "output_type": "display_data"
        }
      ],
      "source": [
        "#all loss chart\n",
        "import matplotlib.pyplot as plt\n",
        "plt1 = plt.figure(1)\n",
        "plt.title('All loss')\n",
        "pd.Series(all_loss, name=\"loss\").plot(x=True, y=True)\n",
        "\n",
        "#all auc chart\n",
        "plt2 = plt.figure(2)\n",
        "plt.title('All auc')\n",
        "pd.Series(all_auc, name=\"auc\").plot(x=True, y=True)"
      ]
    },
    {
      "cell_type": "code",
      "execution_count": null,
      "id": "68bf032b",
      "metadata": {
        "id": "68bf032b",
        "outputId": "d270c3f7-4baa-4871-db60-6f31afd05c13"
      },
      "outputs": [
        {
          "data": {
            "text/plain": [
              "{'accuracy': 0.9933333333333333}"
            ]
          },
          "execution_count": 31,
          "metadata": {},
          "output_type": "execute_result"
        }
      ],
      "source": [
        "\n",
        "from datasets import load_metric\n",
        "metric= load_metric(\"accuracy\")\n",
        "\n",
        "#train_index = eval_dataset.index.tolist()\n",
        "\n",
        "\n",
        "model.eval()\n",
        "\n",
        "for batch in eval_dataloader:\n",
        "    batch = {k: v.to(device) for k, v in batch.items()}\n",
        "    with torch.no_grad():\n",
        "        outputs = model(**batch)\n",
        "    #loss = outputs.loss\n",
        "    #loss.backward()\n",
        "    #eval_loss.append(loss.data.cpu().numpy())\n",
        "    logits = outputs.logits\n",
        "    #prob = F.softmax(logits, dim=1).cpu().detach().numpy()#get probability\n",
        "    \n",
        "    #train_probas.extend(prob)\n",
        "    predictions = torch.argmax(logits, dim=-1)\n",
        "    metric.add_batch(predictions=predictions, references=batch[\"labels\"])\n",
        "    #all_auc.append(roc_auc_score(test_dataset.loc[train_index,'label'], train_probas,multi_class='ovr'))\n",
        "metric.compute()"
      ]
    },
    {
      "cell_type": "code",
      "execution_count": null,
      "id": "09e32576",
      "metadata": {
        "id": "09e32576"
      },
      "outputs": [],
      "source": [
        "#roc for test set\n",
        "\n",
        "model.eval()\n",
        "test_probas = []\n",
        "all_pred =[]\n",
        "for batch in test_dataloader:\n",
        "    batch = {k: v.to(device) for k, v in batch.items()}\n",
        "    with torch.no_grad():\n",
        "        outputs = model(**batch)\n",
        "    \n",
        "    logits = outputs.logits\n",
        "    prob = F.softmax(logits, dim=1).data.cpu().numpy()\n",
        "    test_probas.extend(prob)\n",
        "\n",
        "    \n",
        "    predictions = torch.argmax(logits, dim=-1).data.cpu().numpy()\n",
        "    all_pred.extend(predictions)\n",
        "    metric.add_batch(predictions=predictions, references=batch[\"labels\"])\n",
        "finaltest_probas = np.array(test_probas)\n",
        "final_pred = np.array(all_pred)"
      ]
    },
    {
      "cell_type": "code",
      "execution_count": null,
      "id": "a0c41016",
      "metadata": {
        "id": "a0c41016",
        "outputId": "28240623-6aa6-4864-eec0-79d3db4e5cad"
      },
      "outputs": [
        {
          "data": {
            "text/plain": [
              "<Figure size 1440x1440 with 0 Axes>"
            ]
          },
          "metadata": {},
          "output_type": "display_data"
        },
        {
          "data": {
            "image/png": "[encoded data removed]",
            "text/plain": [
              "<Figure size 640x480 with 1 Axes>"
            ]
          },
          "metadata": {
            "needs_background": "light"
          },
          "output_type": "display_data"
        }
      ],
      "source": [
        "#plot roc\n",
        "\n",
        "biy_test = label_binarize(y_test, classes=[0, 1, 2])\n",
        "n_classes = 3\n",
        "biy_pred = label_binarize(final_pred, classes=[0, 1, 2])\n",
        "n_classes = 3\n",
        "biy_pred\n",
        "\n",
        "fpr = dict()\n",
        "tpr = dict()\n",
        "roc_auc = dict()\n",
        "for i in range(n_classes):\n",
        "    fpr[i], tpr[i], _ = roc_curve(biy_test[:,i], biy_pred[:, i])\n",
        "    roc_auc[i] = auc(fpr[i], tpr[i])\n",
        "\n",
        "\n",
        "plt.figure(figsize=(20,20))\n",
        "figure(figsize=(8, 6), dpi=80)\n",
        "for i in range(n_classes):\n",
        "    plt.plot(fpr[i], tpr[i], label='tfid lr ROC curve (area = %0.2f)' % roc_auc[i],color = 'black')\n",
        "    plt.plot([0, 1], [0, 1], 'k--')\n",
        "    plt.xlim([0.0, 1.0])\n",
        "    plt.ylim([0.0, 1.05])\n",
        "    plt.xlabel('False Positive Rate')\n",
        "    plt.ylabel('True Positive Rate')\n",
        "    plt.title('tfid linear regression')\n",
        "    plt.legend(loc=\"lower right\")\n",
        "    \n"
      ]
    },
    {
      "cell_type": "code",
      "execution_count": null,
      "id": "62937c35",
      "metadata": {
        "id": "62937c35",
        "outputId": "44030013-eccf-4209-96aa-9bffb2df2a3f"
      },
      "outputs": [
        {
          "name": "stdout",
          "output_type": "stream",
          "text": [
            "[[ 80   0  11]\n",
            " [  3 408   7]\n",
            " [  4   5 162]]\n"
          ]
        }
      ],
      "source": [
        "#confusion matrix\n",
        "from sklearn.metrics import confusion_matrix\n",
        "newy_test = np.array(y_test)\n",
        "cm = confusion_matrix(newy_test,final_pred)\n",
        "print(cm)"
      ]
    },
    {
      "cell_type": "code",
      "execution_count": null,
      "id": "2e69ca88",
      "metadata": {
        "id": "2e69ca88"
      },
      "outputs": [],
      "source": [
        "import transformers\n",
        "import shap\n",
        "\n",
        "# explain the model on two sample inputs\n",
        "new_model = transformers.pipeline('sentiment-analysis',model=new_model,tokenizer = new_tokenizer, return_all_scores=True)\n",
        "explainer = shap.Explainer(new_model) \n",
        "#s=[\"In this picture, there are four persons: my father, my mother, my brother and my sister.\"]\n",
        "shap_values = explainer(df[\"text\"].iloc[:3].tolist())\n",
        "\n",
        "# visualize the first prediction's explanation for the POSITIVE output class\n",
        "shap.plots.text(shap_values[0, :, \"POSITIVE\"])"
      ]
    },
    {
      "cell_type": "code",
      "execution_count": null,
      "id": "d58daa5a",
      "metadata": {
        "id": "d58daa5a",
        "outputId": "84c6379e-8aab-4824-b1e6-3f55aa6066bb"
      },
      "outputs": [
        {
          "name": "stderr",
          "output_type": "stream",
          "text": [
            "Some weights of the model checkpoint at bert-base-uncased were not used when initializing BertModel: ['cls.seq_relationship.bias', 'cls.predictions.bias', 'cls.predictions.transform.dense.weight', 'cls.predictions.decoder.weight', 'cls.predictions.transform.LayerNorm.bias', 'cls.seq_relationship.weight', 'cls.predictions.transform.LayerNorm.weight', 'cls.predictions.transform.dense.bias']\n",
            "- This IS expected if you are initializing BertModel from the checkpoint of a model trained on another task or with another architecture (e.g. initializing a BertForSequenceClassification model from a BertForPreTraining model).\n",
            "- This IS NOT expected if you are initializing BertModel from the checkpoint of a model that you expect to be exactly identical (initializing a BertForSequenceClassification model from a BertForSequenceClassification model).\n"
          ]
        }
      ],
      "source": [
        "from transformers import BertTokenizer, BertModel\n",
        "new_tokenizer = BertTokenizer.from_pretrained('bert-base-uncased')\n",
        "new_model = BertModel.from_pretrained('bert-base-uncased')\n"
      ]
    },
    {
      "cell_type": "code",
      "execution_count": null,
      "id": "be4ea50c",
      "metadata": {
        "colab": {
          "referenced_widgets": [
            "f4db4cafc8784cbba477c40e65f2d914"
          ]
        },
        "id": "be4ea50c",
        "outputId": "b6a494da-dfba-4f44-e928-7620eed62f9d"
      },
      "outputs": [
        {
          "data": {
            "application/vnd.jupyter.widget-view+json": {
              "model_id": "f4db4cafc8784cbba477c40e65f2d914",
              "version_major": 2,
              "version_minor": 0
            },
            "text/plain": [
              "  0%|          | 0/2264 [00:00<?, ?it/s]"
            ]
          },
          "metadata": {},
          "output_type": "display_data"
        }
      ],
      "source": [
        "import torch\n",
        "\n",
        "device = torch.device(\"cuda\") if torch.cuda.is_available() else torch.device(\"cpu\")\n",
        "model.to(device)\n",
        "\n",
        "\n",
        "new_df = df.drop(['label'], axis='columns')\n",
        "all_hidden=[]\n",
        "num_training_steps = len(new_df)\n",
        "\n",
        "\n",
        "progress_bar = tqdm(range(num_training_steps))\n",
        "for index, row in new_df.iterrows():\n",
        "    inputs = new_tokenizer(new_df.text[index], padding=\"max_length\", truncation=True, max_length = 50, return_tensors=\"pt\")\n",
        "    with torch.no_grad():\n",
        "        outputs = new_model(**inputs)\n",
        "    last_hidden_states = outputs.last_hidden_state\n",
        "    all_hidden.append(last_hidden_states.cpu().numpy().ravel())\n",
        "    progress_bar.update(1)\n"
      ]
    },
    {
      "cell_type": "code",
      "execution_count": null,
      "id": "a46c9561",
      "metadata": {
        "id": "a46c9561",
        "outputId": "2071c156-4429-4131-da99-c61c5d40cd16"
      },
      "outputs": [
        {
          "data": {
            "text/plain": [
              "AgglomerativeClustering()"
            ]
          },
          "execution_count": 55,
          "metadata": {},
          "output_type": "execute_result"
        }
      ],
      "source": [
        "from sklearn.cluster import AgglomerativeClustering\n",
        "\n",
        "clustering= AgglomerativeClustering().fit(all_hidden)\n",
        "clustering"
      ]
    }
  ],
  "metadata": {
    "kernelspec": {
      "display_name": "Python 3 (ipykernel)",
      "language": "python",
      "name": "python3"
    },
    "language_info": {
      "codemirror_mode": {
        "name": "ipython",
        "version": 3
      },
      "file_extension": ".py",
      "mimetype": "text/x-python",
      "name": "python",
      "nbconvert_exporter": "python",
      "pygments_lexer": "ipython3",
      "version": "3.8.8"
    },
    "colab": {
      "name": "HW 4 (4).ipynb",
      "provenance": [],
      "include_colab_link": true
    }
  },
  "nbformat": 4,
  "nbformat_minor": 5
}